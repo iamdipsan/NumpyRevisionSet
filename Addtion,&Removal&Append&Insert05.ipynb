{
 "cells": [
  {
   "cell_type": "code",
   "execution_count": 1,
   "id": "f6149a75-18d6-4768-9f05-91f56b31f318",
   "metadata": {},
   "outputs": [],
   "source": [
    "import numpy as np"
   ]
  },
  {
   "cell_type": "code",
   "execution_count": 2,
   "id": "a48cc251-83a1-4c11-9bfd-f8abf7b910b0",
   "metadata": {},
   "outputs": [
    {
     "name": "stdout",
     "output_type": "stream",
     "text": [
      "[1 2 3 4 5]\n"
     ]
    }
   ],
   "source": [
    "a= np.array([1,2,3,4,5])\n",
    "print(a)"
   ]
  },
  {
   "cell_type": "code",
   "execution_count": 3,
   "id": "3c65d7ff-d98d-48d1-b3a9-ccc376107610",
   "metadata": {},
   "outputs": [
    {
     "name": "stdout",
     "output_type": "stream",
     "text": [
      "[1 2 3 4 5 6]\n"
     ]
    }
   ],
   "source": [
    "b=np.append(a,6)\n",
    "print(b)"
   ]
  },
  {
   "cell_type": "code",
   "execution_count": 4,
   "id": "e6f0e64b-f876-46e1-b527-5a8c2d99ba39",
   "metadata": {},
   "outputs": [
    {
     "name": "stdout",
     "output_type": "stream",
     "text": [
      "[[ 1  2  3  4  5]\n",
      " [ 6  7  8  9 10]]\n"
     ]
    }
   ],
   "source": [
    "c= np.array([[1,2,3,4,5],[6,7,8,9,10]])\n",
    "print(c)"
   ]
  },
  {
   "cell_type": "code",
   "execution_count": 5,
   "id": "062508e6-f486-4024-a495-0e7eb8ffab7b",
   "metadata": {},
   "outputs": [
    {
     "name": "stdout",
     "output_type": "stream",
     "text": [
      "[ 1  2  3  4  5  6  7  8  9 10 11]\n"
     ]
    }
   ],
   "source": [
    "c= np.append(c,11) #adding a  single data\n",
    "print(c)"
   ]
  },
  {
   "cell_type": "code",
   "execution_count": 6,
   "id": "82e3653f-0777-4889-981e-67fca3bb194e",
   "metadata": {},
   "outputs": [
    {
     "name": "stdout",
     "output_type": "stream",
     "text": [
      "[ 1  2  3  4  5  6  7  8  9 10 11]\n"
     ]
    }
   ],
   "source": [
    "print(c)\n"
   ]
  },
  {
   "cell_type": "code",
   "execution_count": 7,
   "id": "475eda40-606f-441e-8eb2-63e8f6e1d7e1",
   "metadata": {},
   "outputs": [
    {
     "name": "stdout",
     "output_type": "stream",
     "text": [
      "[[ 1  2  3  4  5]\n",
      " [ 6  7  8  9 10]\n",
      " [11 12 13 14 15]]\n"
     ]
    }
   ],
   "source": [
    "#appending rows in 2d\n",
    "x= np.array([[1,2,3,4,5],[6,7,8,9,10]])\n",
    "y =[[11,12,13,14,15]] #all rows should have equal no of elements.\n",
    "z=np.append(x,y,axis=0)\n",
    "print(z)"
   ]
  },
  {
   "cell_type": "code",
   "execution_count": 8,
   "id": "e7f5c081-8509-44af-8b4d-e93ca7410525",
   "metadata": {},
   "outputs": [
    {
     "name": "stdout",
     "output_type": "stream",
     "text": [
      "[[ 1  2  3  4  5]\n",
      " [ 6  7  8  9 10]\n",
      " [11 12 13 14 15]]\n"
     ]
    }
   ],
   "source": [
    "#appending rows using vstack,stacks dont takes axis\n",
    "x= np.array([[1,2,3,4,5],[6,7,8,9,10]])\n",
    "y =[[11,12,13,14,15]] #all rows should have equal no of elements.\n",
    "z=np.vstack([x,y]) \n",
    "print(z)"
   ]
  },
  {
   "cell_type": "code",
   "execution_count": 9,
   "id": "71d67679-bbf2-498c-b681-48aab5bc7152",
   "metadata": {},
   "outputs": [
    {
     "name": "stdout",
     "output_type": "stream",
     "text": [
      "[[1 2 3 7]\n",
      " [4 5 6 8]]\n"
     ]
    }
   ],
   "source": [
    "#appending  columns  \n",
    "x=np.array( [[1,2,3,],[4,5,6]])\n",
    "y=[[7],[8]] #adds 7 to 0th row and 8 to 1st row.\n",
    "z= print(np.append(x,y,axis=1))"
   ]
  },
  {
   "cell_type": "code",
   "execution_count": 10,
   "id": "4409fa31-fccd-4bfd-afa7-396965bf0b68",
   "metadata": {},
   "outputs": [
    {
     "name": "stdout",
     "output_type": "stream",
     "text": [
      "[[1 2 3 7]\n",
      " [4 5 6 8]]\n"
     ]
    }
   ],
   "source": [
    "#appending column  using hstack\n",
    "x= np.array([[1,2,3,],[4,5,6]])\n",
    "y =[[7],[8]]\n",
    "z= print(np.hstack([x,y]))"
   ]
  },
  {
   "cell_type": "code",
   "execution_count": 11,
   "id": "97356389-4409-425d-8871-76277337aca4",
   "metadata": {},
   "outputs": [
    {
     "name": "stdout",
     "output_type": "stream",
     "text": [
      "[1 9 2 3 4 5]\n"
     ]
    }
   ],
   "source": [
    "#using the insert method\n",
    "x= np.array([1,2,3,4,5])\n",
    "y=[9]\n",
    "print(np.insert(x,1,y))"
   ]
  },
  {
   "cell_type": "code",
   "execution_count": 12,
   "id": "c6c1bce7-4aae-4da6-b37b-39f823974aef",
   "metadata": {},
   "outputs": [
    {
     "name": "stdout",
     "output_type": "stream",
     "text": [
      "[[ 1  9  2  3]\n",
      " [ 4 10  5  6]]\n"
     ]
    }
   ],
   "source": [
    "#using the insert method, using axis to keep the array seperate\n",
    "x= np.array([[1,2,3],[4,5,6]])\n",
    "y=[9,10]\n",
    "print(np.insert(x,1,y,axis=1))"
   ]
  },
  {
   "cell_type": "code",
   "execution_count": 13,
   "id": "52565976-f81e-43c3-81a6-7578832d38eb",
   "metadata": {},
   "outputs": [
    {
     "name": "stdout",
     "output_type": "stream",
     "text": [
      "[[ 1  2  3]\n",
      " [ 4  5  6]\n",
      " [ 8  9 10]\n",
      " [11 12 13]]\n"
     ]
    }
   ],
   "source": [
    "##using the insert method, using axis to keep the array seperate\n",
    "#adding multiple rows using axis\n",
    "x= np.array([[1,2,3],[4,5,6]])\n",
    "y=[[8,9,10],[11,12,13]]\n",
    "print(np.insert(x,2,y,axis=0))"
   ]
  },
  {
   "cell_type": "code",
   "execution_count": 14,
   "id": "8bf2c9bb-da59-452b-b513-21236ef07975",
   "metadata": {},
   "outputs": [
    {
     "name": "stdout",
     "output_type": "stream",
     "text": [
      "[[ 1  2  3  8  9 10]\n",
      " [ 4  5  6 11 12 13]]\n"
     ]
    }
   ],
   "source": [
    "x= np.array([[1,2,3],[4,5,6]])\n",
    "y=[[8,9,10],[11,12,13]]\n",
    "print(np.hstack([x,y]))"
   ]
  },
  {
   "cell_type": "code",
   "execution_count": 15,
   "id": "44cfcbd2-8f65-48a6-8b48-ad6a2d23502a",
   "metadata": {},
   "outputs": [
    {
     "name": "stdout",
     "output_type": "stream",
     "text": [
      "[1 2 3 4]\n"
     ]
    }
   ],
   "source": [
    "x= np.array([1,2,3,4,5])\n",
    "print(np.delete(x,4))\n"
   ]
  },
  {
   "cell_type": "code",
   "execution_count": 16,
   "id": "7a7f093a-995f-4964-a4e4-38f04d35b4a0",
   "metadata": {},
   "outputs": [
    {
     "name": "stdout",
     "output_type": "stream",
     "text": [
      "[1 2 3]\n"
     ]
    }
   ],
   "source": [
    "x= np.array([1,2,3,4,5])\n",
    "print(np.delete(x,[3,4]))"
   ]
  },
  {
   "cell_type": "code",
   "execution_count": 17,
   "id": "d258a056-dccd-4a8d-9ff0-8bb019b069e0",
   "metadata": {},
   "outputs": [
    {
     "name": "stdout",
     "output_type": "stream",
     "text": [
      "[]\n"
     ]
    }
   ],
   "source": [
    "x= np.array([1,2,3,4,5])\n",
    "print(np.delete(x,range(len(x)))) #len(x) means legth of x\n",
    "#range(len(x)) ,means allindices in array\n",
    "#np.delete(in array x, all elements)\n",
    "#or"
   ]
  },
  {
   "cell_type": "code",
   "execution_count": 18,
   "id": "ae2eec18-d9bb-4219-b8c9-caf2555952f7",
   "metadata": {},
   "outputs": [
    {
     "name": "stdout",
     "output_type": "stream",
     "text": [
      "[]\n"
     ]
    }
   ],
   "source": [
    "x=np.array([1,2,3,4,5])\n",
    "print(np.delete(x,np.s_[:]))"
   ]
  },
  {
   "cell_type": "code",
   "execution_count": 19,
   "id": "7e712372-0a77-462b-811f-e6b683e955e6",
   "metadata": {},
   "outputs": [
    {
     "name": "stdout",
     "output_type": "stream",
     "text": [
      "[]\n"
     ]
    }
   ],
   "source": [
    "x= np.array([[1,2,3],[4,5,6]])\n",
    "print(np.delete(x,np.s_[:]))  #deletes all element of 2d array"
   ]
  },
  {
   "cell_type": "code",
   "execution_count": 20,
   "id": "2929aff4-1caa-47fd-ae39-1e0cff854578",
   "metadata": {},
   "outputs": [
    {
     "name": "stdout",
     "output_type": "stream",
     "text": [
      "[[4 5 6]]\n"
     ]
    }
   ],
   "source": [
    "x= np.array([\n",
    "    [1,2,3],\n",
    "    [4,5,6]])\n",
    "print(np.delete(x,[0],axis=0)) #deletes the 0th row"
   ]
  },
  {
   "cell_type": "code",
   "execution_count": 21,
   "id": "cbd44c62-cb84-4304-8800-80bfd6cff829",
   "metadata": {},
   "outputs": [
    {
     "name": "stdout",
     "output_type": "stream",
     "text": [
      "[[7 8 9]]\n"
     ]
    }
   ],
   "source": [
    "x= np.array([\n",
    "    [1,2,3],\n",
    "    [4,5,6],\n",
    "    [7,8,9]\n",
    "  ])\n",
    "print(np.delete(x,[0,1],axis=0)) #deletes the 0,1th row"
   ]
  },
  {
   "cell_type": "code",
   "execution_count": 22,
   "id": "0f299ea9-5f8d-4a8e-a4f7-c3ffb4bf3a62",
   "metadata": {},
   "outputs": [
    {
     "name": "stdout",
     "output_type": "stream",
     "text": [
      "[[2 3]\n",
      " [5 6]\n",
      " [8 9]]\n"
     ]
    }
   ],
   "source": [
    "x= np.array([\n",
    "    [1,2,3],\n",
    "    [4,5,6],\n",
    "    [7,8,9]\n",
    "  ])\n",
    "print(np.delete(x,[0],axis=1)) #to  delete entire rows or column ,mention bracket and \n",
    "#just mention the indices,and if you want  to  delete rows=>axis=0 ,\n",
    "#if want to  delete columns, axis=1"
   ]
  },
  {
   "cell_type": "code",
   "execution_count": 23,
   "id": "58080aa7-be30-450a-86b0-6d987c0e4a31",
   "metadata": {},
   "outputs": [
    {
     "name": "stdout",
     "output_type": "stream",
     "text": [
      "[[1 2 3]\n",
      " [7 8 9]]\n"
     ]
    },
    {
     "data": {
      "text/plain": [
       "(None,)"
      ]
     },
     "execution_count": 23,
     "metadata": {},
     "output_type": "execute_result"
    }
   ],
   "source": [
    "x= np.array([\n",
    "    [1,2,3],\n",
    "    [4,5,6],\n",
    "    [7,8,9]\n",
    "  ])\n",
    "\n",
    "print(np.delete(x,1,axis=0)) ,# here indice 1 is for rows ,beacuse axis is 0."
   ]
  },
  {
   "cell_type": "code",
   "execution_count": 24,
   "id": "c5150a8e-0a43-429c-9282-ac5fb81001e2",
   "metadata": {},
   "outputs": [
    {
     "name": "stdout",
     "output_type": "stream",
     "text": [
      "[[1 3]\n",
      " [4 6]\n",
      " [7 9]]\n"
     ]
    }
   ],
   "source": [
    "x= np.array([\n",
    "    [1,2,3],\n",
    "    [4,5,6],\n",
    "    [7,8,9]\n",
    "  ])\n",
    "\n",
    "print(np.delete(x,1,axis=1))# here indice 1 is for column ,beacuse axis is 1."
   ]
  },
  {
   "cell_type": "code",
   "execution_count": 25,
   "id": "ceb09a76-9814-45c8-93e7-613041e5caa6",
   "metadata": {},
   "outputs": [
    {
     "name": "stdout",
     "output_type": "stream",
     "text": [
      "[[1 2 3]\n",
      " [4 5 6]]\n"
     ]
    }
   ],
   "source": [
    "x= np.array([\n",
    "    [1,2,3],\n",
    "    [4,5,6],\n",
    "    [7,8,9]\n",
    "  ])\n",
    "\n",
    "print(np.delete(x,2,axis=0))"
   ]
  },
  {
   "cell_type": "code",
   "execution_count": 26,
   "id": "a21658e4-a774-4ca1-989c-2909195700a2",
   "metadata": {},
   "outputs": [
    {
     "name": "stdout",
     "output_type": "stream",
     "text": [
      "[[1 2]\n",
      " [4 5]\n",
      " [7 8]]\n"
     ]
    }
   ],
   "source": [
    "x= np.array([\n",
    "    [1,2,3],\n",
    "    [4,5,6],\n",
    "    [7,8,9]\n",
    "  ])\n",
    "\n",
    "print(np.delete(x,2,axis=1))\n"
   ]
  },
  {
   "cell_type": "code",
   "execution_count": null,
   "id": "38b4d4db-1cd4-4e3f-a339-fe3a88aebef4",
   "metadata": {},
   "outputs": [],
   "source": []
  }
 ],
 "metadata": {
  "kernelspec": {
   "display_name": "Python 3 (ipykernel)",
   "language": "python",
   "name": "python3"
  },
  "language_info": {
   "codemirror_mode": {
    "name": "ipython",
    "version": 3
   },
   "file_extension": ".py",
   "mimetype": "text/x-python",
   "name": "python",
   "nbconvert_exporter": "python",
   "pygments_lexer": "ipython3",
   "version": "3.12.4"
  }
 },
 "nbformat": 4,
 "nbformat_minor": 5
}
