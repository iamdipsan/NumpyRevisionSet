{
 "cells": [
  {
   "cell_type": "code",
   "execution_count": 4,
   "id": "4f95fa5f-5510-4dc4-9ffe-750cb953ea85",
   "metadata": {},
   "outputs": [],
   "source": [
    "import numpy as np\n"
   ]
  },
  {
   "cell_type": "code",
   "execution_count": 18,
   "id": "4d49b7c9-9132-42c6-859d-bfba3684d3db",
   "metadata": {},
   "outputs": [
    {
     "name": "stdout",
     "output_type": "stream",
     "text": [
      "[11 22 33 44 55]\n",
      "5\n",
      "(5,)\n",
      "int32\n",
      "1\n",
      "5\n"
     ]
    }
   ],
   "source": [
    "#create a python array\n",
    "a = np.array([11,22,33,44,55])\n",
    "print(a)\n",
    "print(a.size)\n",
    "print(a.shape)\n",
    "print(a.dtype)\n",
    "print(a.ndim)\n",
    "print(len(a)) #gives the number of element in 1d array\n"
   ]
  },
  {
   "cell_type": "code",
   "execution_count": 11,
   "id": "3f8d0922-8851-45a4-84bf-550d44eeee6d",
   "metadata": {},
   "outputs": [
    {
     "name": "stdout",
     "output_type": "stream",
     "text": [
      "[11. 22. 33. 44. 55.]\n"
     ]
    }
   ],
   "source": [
    "b= a.astype(float) #converting array into float,storing it in b,printing b.\n",
    "print(b)"
   ]
  },
  {
   "cell_type": "code",
   "execution_count": 12,
   "id": "73546302-9153-4a48-8dbd-4b991a15eede",
   "metadata": {},
   "outputs": [
    {
     "name": "stdout",
     "output_type": "stream",
     "text": [
      "[11. 22. 33. 44. 55.]\n"
     ]
    }
   ],
   "source": [
    "print(b)"
   ]
  },
  {
   "cell_type": "code",
   "execution_count": 14,
   "id": "c4604e79-72f3-4395-a2fb-02f03bd8f48f",
   "metadata": {},
   "outputs": [
    {
     "name": "stdout",
     "output_type": "stream",
     "text": [
      "[[ 1  2  3  4  5]\n",
      " [ 6  7  8  9 10]]\n",
      "10\n",
      "(2, 5)\n",
      "int32\n",
      "2\n"
     ]
    }
   ],
   "source": [
    "a=np.array([[1,2,3,4,5], [6,7,8,9,10]])\n",
    "print(a)\n",
    "print(a.size)\n",
    "print(a.shape)\n",
    "print(a.dtype)\n",
    "print(a.ndim)\n",
    "print(len(a))  #gives the no of rows\n"
   ]
  },
  {
   "cell_type": "code",
   "execution_count": 15,
   "id": "5e327a72-df9b-4a48-95cd-7b588f79a490",
   "metadata": {},
   "outputs": [
    {
     "name": "stdout",
     "output_type": "stream",
     "text": [
      "[[ 1.  2.  3.  4.  5.]\n",
      " [ 6.  7.  8.  9. 10.]]\n"
     ]
    }
   ],
   "source": [
    "b= a.astype(float) #use to convert datatype\n",
    "print(b)"
   ]
  },
  {
   "cell_type": "code",
   "execution_count": 16,
   "id": "5fa9fedc-996b-4696-8c06-8a2a0ac762fa",
   "metadata": {},
   "outputs": [
    {
     "name": "stdout",
     "output_type": "stream",
     "text": [
      "[[ 1  2  3  4  5]\n",
      " [ 6  7  8  9 10]]\n"
     ]
    }
   ],
   "source": [
    "c= b.astype(int)\n",
    "print(c)\n"
   ]
  },
  {
   "cell_type": "code",
   "execution_count": 17,
   "id": "980e806a-056a-488e-9023-0cca76f9a26a",
   "metadata": {},
   "outputs": [
    {
     "name": "stdout",
     "output_type": "stream",
     "text": [
      "2\n"
     ]
    }
   ],
   "source": [
    "print(len(c))  #gives the no of arrays in 2d array"
   ]
  },
  {
   "cell_type": "code",
   "execution_count": 19,
   "id": "58fea852-8dc9-4453-862d-b3c8286f0974",
   "metadata": {},
   "outputs": [
    {
     "name": "stdout",
     "output_type": "stream",
     "text": [
      "<class 'numpy.ndarray'>\n"
     ]
    }
   ],
   "source": [
    "print(type(c))"
   ]
  },
  {
   "cell_type": "code",
   "execution_count": null,
   "id": "53656781-7ae1-4ae8-a1fd-3682e1e34e93",
   "metadata": {},
   "outputs": [],
   "source": []
  }
 ],
 "metadata": {
  "kernelspec": {
   "display_name": "Python 3 (ipykernel)",
   "language": "python",
   "name": "python3"
  },
  "language_info": {
   "codemirror_mode": {
    "name": "ipython",
    "version": 3
   },
   "file_extension": ".py",
   "mimetype": "text/x-python",
   "name": "python",
   "nbconvert_exporter": "python",
   "pygments_lexer": "ipython3",
   "version": "3.12.4"
  }
 },
 "nbformat": 4,
 "nbformat_minor": 5
}
