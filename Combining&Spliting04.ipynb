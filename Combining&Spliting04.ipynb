{
 "cells": [
  {
   "cell_type": "code",
   "execution_count": 1,
   "id": "5fc5491e-6b28-4ff9-af4f-26b953baa0f8",
   "metadata": {},
   "outputs": [],
   "source": [
    "import numpy as np\n",
    "#axis 0 means stack two  rows one after another  vertically(along rows)\n",
    "#axis 1 means stacks arrays horizontally  (along columnns)"
   ]
  },
  {
   "cell_type": "code",
   "execution_count": 2,
   "id": "de3d6901-d95a-4682-ac0d-b0bac9ab4d4e",
   "metadata": {},
   "outputs": [
    {
     "name": "stdout",
     "output_type": "stream",
     "text": [
      "[[1 2 3]\n",
      " [4 5 6]\n",
      " [7 8 9]]\n"
     ]
    }
   ],
   "source": [
    "a = np.array([\n",
    "    [1,2,3],\n",
    "    [4,5,6],\n",
    "    [7,8,9]])\n",
    "print(a)"
   ]
  },
  {
   "cell_type": "code",
   "execution_count": 5,
   "id": "29f737bd-52bd-48c8-8690-8076536694f1",
   "metadata": {},
   "outputs": [
    {
     "name": "stdout",
     "output_type": "stream",
     "text": [
      "[1 2 3]\n",
      "[4 5 6]\n",
      "[7 8 9]\n"
     ]
    }
   ],
   "source": [
    "row0 =print(a[0])\n",
    "row1 =print(a[1])\n",
    "row2 =print(a[2])"
   ]
  },
  {
   "cell_type": "code",
   "execution_count": 7,
   "id": "9d37aa22-b6be-46e2-92e2-791ba33714de",
   "metadata": {},
   "outputs": [
    {
     "name": "stdout",
     "output_type": "stream",
     "text": [
      "[12 15 18]\n"
     ]
    }
   ],
   "source": [
    "sumAxis0 = np.sum(a,axis=0)\n",
    "print(sumAxis0) #prints the sume of rows vertically downword"
   ]
  },
  {
   "cell_type": "code",
   "execution_count": 9,
   "id": "0ac65f7d-3b79-4821-96bd-f871fc2b12ed",
   "metadata": {},
   "outputs": [
    {
     "name": "stdout",
     "output_type": "stream",
     "text": [
      "[ 6 15 24]\n"
     ]
    }
   ],
   "source": [
    "sumAxis1= np.sum(a,axis=1)\n",
    "print(sumAxis1)\n",
    "#prints the sum of rows horizontally."
   ]
  },
  {
   "cell_type": "code",
   "execution_count": 18,
   "id": "cce86911-8ab8-4ef5-bd6b-4670740bf4c2",
   "metadata": {},
   "outputs": [
    {
     "name": "stdout",
     "output_type": "stream",
     "text": [
      "[[ 1  2  3]\n",
      " [ 4  5  6]\n",
      " [ 7  8  9]\n",
      " [10 11 12]]\n"
     ]
    }
   ],
   "source": [
    "a = np.array([[1,2,3],[4,5,6],[7,8,9]])\n",
    "b=  np.array([10,11,12])\n",
    "c= np.concatenate((a,[b]),axis=0)\n",
    "print(c)"
   ]
  },
  {
   "cell_type": "code",
   "execution_count": 114,
   "id": "d8c51162-61fd-4a76-b046-d2fa1d9cf767",
   "metadata": {},
   "outputs": [
    {
     "name": "stdout",
     "output_type": "stream",
     "text": [
      "[[ 1  2  3]\n",
      " [ 4  5  6]\n",
      " [ 7  8  9]\n",
      " [10 11 12]]\n"
     ]
    }
   ],
   "source": [
    "a = np.array([[1,2,3],[4,5,6],[7,8,9]])\n",
    "b=np.array( [10,11,12])\n",
    "c= np.concatenate((a,[b]),axis=0) \n",
    "#axis 0 , beacuse a is a 2d array, and b  is  a 1d array,cannot align column wise\n",
    "print(c)"
   ]
  },
  {
   "cell_type": "code",
   "execution_count": 42,
   "id": "329b10a7-35ba-4fab-9a0b-853df478f074",
   "metadata": {},
   "outputs": [
    {
     "name": "stdout",
     "output_type": "stream",
     "text": [
      "[[ 1  2  3]\n",
      " [ 4  5  6]\n",
      " [ 7  8  9]\n",
      " [10 11 12]\n",
      " [13 14 15]\n",
      " [16 17 18]]\n"
     ]
    }
   ],
   "source": [
    "a = np.array([[1,2,3],[4,5,6],[7,8,9]])\n",
    "b=np.array([[10,11,12],[13,14,15],[16,17,18]])\n",
    "c= np.concatenate((a,b),axis=0)\n",
    "print(c)"
   ]
  },
  {
   "cell_type": "code",
   "execution_count": 47,
   "id": "fe3cb93e-6339-40ee-a6f2-4c8c718d8855",
   "metadata": {},
   "outputs": [
    {
     "name": "stdout",
     "output_type": "stream",
     "text": [
      "[[ 1  2  3 10 11 12]\n",
      " [ 4  5  6 13 14 15]\n",
      " [ 7  8  9 16 17 18]]\n"
     ]
    }
   ],
   "source": [
    "a = np.array([[1,2,3],[4,5,6],[7,8,9]])\n",
    "b=np.array([[10,11,12],[13,14,15],[16,17,18]])\n",
    "c= np.concatenate((a,b),axis=1)#concatenatets rows vertically downward.\n",
    "print(c)"
   ]
  },
  {
   "cell_type": "code",
   "execution_count": 54,
   "id": "d7082e65-e8f0-484c-a718-f6fdecf12bc9",
   "metadata": {},
   "outputs": [
    {
     "name": "stdout",
     "output_type": "stream",
     "text": [
      "[[ 1  2  3]\n",
      " [ 4  5  6]\n",
      " [ 7  8  9]\n",
      " [10 11 12]\n",
      " [13 14 15]\n",
      " [16 17 18]]\n",
      "SumOfaxis0 [51 57 63]\n",
      "SumOfaxis1 [ 6 15 24 33 42 51]\n"
     ]
    }
   ],
   "source": [
    "a = np.array([[1,2,3],[4,5,6],[7,8,9]])\n",
    "b=np.array([[10,11,12],[13,14,15],[16,17,18]])\n",
    "c= np.concatenate((a,b),axis=0)\n",
    "print(c)\n",
    "print(\"SumOfaxis0\" ,np.sum(c,axis=0))\n",
    "print(\"SumOfaxis1\" ,np.sum(c,axis=1))"
   ]
  },
  {
   "cell_type": "code",
   "execution_count": 115,
   "id": "b92452ed-0882-47c7-91cd-a38928afe04f",
   "metadata": {},
   "outputs": [
    {
     "name": "stdout",
     "output_type": "stream",
     "text": [
      "[[ 1  2  3 10 11 12]\n",
      " [ 4  5  6 13 14 15]\n",
      " [ 7  8  9 16 17 18]]\n",
      "SumOfaxis0 [12 15 18 39 42 45]\n",
      "SumOfaxis1 [39 57 75]\n"
     ]
    }
   ],
   "source": [
    "a = np.array([[1,2,3],[4,5,6],[7,8,9]])\n",
    "b=np.array([[10,11,12],[13,14,15],[16,17,18]])\n",
    "c= np.concatenate((a,b),axis=1)\n",
    "print(c)\n",
    "print(\"SumOfaxis0\" ,np.sum(c,axis=0))\n",
    "print(\"SumOfaxis1\" ,np.sum(c,axis=1))"
   ]
  },
  {
   "cell_type": "code",
   "execution_count": 64,
   "id": "a2e25c07-2239-4c79-81f3-fa1feae7fc94",
   "metadata": {},
   "outputs": [
    {
     "name": "stdout",
     "output_type": "stream",
     "text": [
      "[[ 1  2  3]\n",
      " [ 4  5  6]\n",
      " [ 7  8  9]\n",
      " [10 11 12]]\n"
     ]
    }
   ],
   "source": [
    "#vstack ,stacks arrays vertically\n",
    "a= np.array([[1,2,3,],[4,5,6]])\n",
    "b = np.array([[7, 8, 9],[10, 11, 12]])\n",
    "c= np.vstack([a,b])\n",
    "print(c)"
   ]
  },
  {
   "cell_type": "code",
   "execution_count": 66,
   "id": "837f8558-85e5-4a07-b08b-9cad462090fe",
   "metadata": {},
   "outputs": [
    {
     "name": "stdout",
     "output_type": "stream",
     "text": [
      "[[ 1  2  3  7  8  9]\n",
      " [ 4  5  6 10 11 12]]\n"
     ]
    }
   ],
   "source": [
    "#vstack ,stacks arrays horizontally (appends b to a,at right side)\n",
    "a= np.array([[1,2,3,],[4,5,6]])\n",
    "b = np.array([[7, 8, 9],[10, 11, 12]])\n",
    "c= np.hstack([a,b])\n",
    "print(c)"
   ]
  },
  {
   "cell_type": "code",
   "execution_count": 81,
   "id": "967b774b-33df-4068-8dd3-cc55a744795e",
   "metadata": {},
   "outputs": [
    {
     "name": "stdout",
     "output_type": "stream",
     "text": [
      "The new stack using vertical stack is \n",
      ": [[ 1  2  3]\n",
      " [ 4  5  6]\n",
      " [ 7  8  9]\n",
      " [ 9 10 11]\n",
      " [12  3 14]\n",
      " [15 16 17]\n",
      " [18 19 20]\n",
      " [21 22 23]]\n",
      "The new stack using horizontal stack is \n",
      ": [[ 1  2  3  7  8  9 12  3 14 18 19 20]\n",
      " [ 4  5  6  9 10 11 15 16 17 21 22 23]]\n"
     ]
    }
   ],
   "source": [
    "import numpy as np\n",
    "\n",
    "a = np.array([[1, 2, 3], [4, 5, 6]])\n",
    "b = np.array([[7, 8, 9], [9, 10, 11]])\n",
    "c = np.array([[12, 3, 14], [15, 16, 17]])\n",
    "d = np.array([[18, 19, 20], [21, 22, 23]])\n",
    "\n",
    "# Vertical stacking\n",
    "vertical_stack = np.vstack([a, b, c, d])\n",
    "print(\"The new stack using vertical stack is \\n:\", vertical_stack)\n",
    "\n",
    "# Horizontal stacking(The columns of a, b, c, and d are appended side by side:)\n",
    "horizontal_stack = np.hstack([a, b, c, d])\n",
    "print(\"The new stack using horizontal stack is \\n:\", horizontal_stack)\n"
   ]
  },
  {
   "cell_type": "markdown",
   "id": "ebd63422-7880-4a5b-a217-cef296eaa60f",
   "metadata": {},
   "source": [
    "#Append function numpy"
   ]
  },
  {
   "cell_type": "code",
   "execution_count": 92,
   "id": "2f580d2d-1fc6-472b-a47e-eda5f85e7a7e",
   "metadata": {},
   "outputs": [
    {
     "name": "stdout",
     "output_type": "stream",
     "text": [
      "[ 1  2  3  4  5  6  7  8  9  9 10 11]\n"
     ]
    }
   ],
   "source": [
    "\n",
    "#if we dont use axis it , while using append, flattens the array\n",
    "#numpy.append(arr, values, axis=None)\n",
    "a = np.array([[1, 2, 3], [4, 5, 6]])\n",
    "b = np.array([[7, 8, 9], [9, 10, 11]])\n",
    "c= np.append(a,b) \n",
    "print(c)"
   ]
  },
  {
   "cell_type": "code",
   "execution_count": 83,
   "id": "3477b43f-3c75-4119-ad8b-728a4c857364",
   "metadata": {},
   "outputs": [
    {
     "name": "stdout",
     "output_type": "stream",
     "text": [
      "[[ 1  2  3]\n",
      " [ 4  5  6]\n",
      " [ 7  8  9]\n",
      " [ 9 10 11]]\n"
     ]
    }
   ],
   "source": [
    "#numpy.append(arr, values, axis=None) #if we use, it appends, but remains 2d\n",
    "\n",
    "a = np.array([[1, 2, 3], [4, 5, 6]])\n",
    "b = np.array([[7, 8, 9], [9, 10, 11]])\n",
    "c= np.append(a,b,axis=0) #stacks vertically\n",
    "print(c)"
   ]
  },
  {
   "cell_type": "code",
   "execution_count": 90,
   "id": "e03a939b-bad8-472c-99f2-ae9e0e8a7ebe",
   "metadata": {},
   "outputs": [
    {
     "name": "stdout",
     "output_type": "stream",
     "text": [
      "[[ 1  2  3  7  8  9]\n",
      " [ 4  5  6  9 10 11]]\n"
     ]
    }
   ],
   "source": [
    "#numpy.append(arr, values, axis=None)\n",
    "a = np.array([[1, 2, 3], [4, 5, 6]])\n",
    "b = np.array([[7, 8, 9], [9, 10, 11]])\n",
    "c= np.append(a,b,axis=1) \n",
    "print(c)"
   ]
  },
  {
   "cell_type": "code",
   "execution_count": 106,
   "id": "33ef9967-893e-494c-83f8-6a02a00f192d",
   "metadata": {},
   "outputs": [
    {
     "name": "stdout",
     "output_type": "stream",
     "text": [
      "[ 1  2  3  4  5  6  7  8  9 10 11 12]\n",
      "[[ 1  2  3]\n",
      " [ 4  5  6]\n",
      " [ 7  8  9]\n",
      " [10 11 12]]\n",
      "[[ 1  2  3  7  8  9]\n",
      " [ 4  5  6 10 11 12]]\n"
     ]
    }
   ],
   "source": [
    "a= a = np.array([[1, 2, 3], [4, 5, 6]])\n",
    "b = np.array([[7, 8, 9],[10,11,12]])\n",
    "c=np.append(a,b)\n",
    "print(c) #prints the flatten appended array\n",
    "c= np.append(a,b,axis=0)\n",
    "print(c)#prints the array, in 2d\n",
    "c= np.append(a,b,axis=1)\n",
    "print(c)"
   ]
  },
  {
   "cell_type": "code",
   "execution_count": 112,
   "id": "fb5a0776-3788-4b79-8fa6-fbcb18fcc519",
   "metadata": {},
   "outputs": [
    {
     "name": "stdout",
     "output_type": "stream",
     "text": [
      "[1 2 3 4 5 6 7 8 9]\n"
     ]
    }
   ],
   "source": [
    "a= a = np.array([[1, 2, 3], [4, 5, 6]])\n",
    "b = np.array([7, 8, 9])\n",
    "c= np.append(a,b) #axis wont work, beacuse dimensions are different\n",
    "print(c)"
   ]
  },
  {
   "cell_type": "code",
   "execution_count": 118,
   "id": "c2c80f49-5189-49cc-8553-5c9b2f889d3a",
   "metadata": {},
   "outputs": [
    {
     "name": "stdout",
     "output_type": "stream",
     "text": [
      "[1 5 6 7 2 3 4 5 6]\n"
     ]
    }
   ],
   "source": [
    "a= np.array([[1, 2, 3], [4, 5, 6]])\n",
    "b=np.array([5,6,7])\n",
    "c= np.insert(a,1,b)\n",
    "print(c)"
   ]
  },
  {
   "cell_type": "code",
   "execution_count": 119,
   "id": "92066325-a0bf-4fce-85ba-ac65b6f23a7c",
   "metadata": {},
   "outputs": [
    {
     "name": "stdout",
     "output_type": "stream",
     "text": [
      "[[1 2 3]\n",
      " [5 6 7]\n",
      " [4 5 6]]\n"
     ]
    }
   ],
   "source": [
    "a= np.array([[1, 2, 3], [4, 5, 6]])\n",
    "b=np.array([5,6,7])\n",
    "c= np.insert(a,1,b,axis=0)\n",
    "print(c)"
   ]
  },
  {
   "cell_type": "code",
   "execution_count": 123,
   "id": "a7814f8a-37df-45cb-97fc-ff869bd4c80e",
   "metadata": {},
   "outputs": [],
   "source": [
    "a= np.array([[1, 2, 3], [4, 5, 6]])\n",
    "b=np.array([5,6,7])\n",
    "#c= np.insert(a,1,b,axis=1)  \n",
    "#print(c)  #gives error\n"
   ]
  },
  {
   "cell_type": "code",
   "execution_count": 128,
   "id": "e1a20827-fe5d-439b-8e75-82936221ff63",
   "metadata": {},
   "outputs": [
    {
     "name": "stdout",
     "output_type": "stream",
     "text": [
      "[7 8 9 1 2 3 4 5 6]\n",
      "[1 7 8 9 2 3 4 5 6]\n",
      "[1 2 7 8 9 3 4 5 6]\n",
      "[1 2 3 7 8 9 4 5 6]\n"
     ]
    }
   ],
   "source": [
    "a= np.array([1, 2,3,4, 5, 6])\n",
    "b=np.array([7,8,9])\n",
    "print(np.insert(a,0,b))\n",
    "print(np.insert(a,1,b))\n",
    "print(np.insert(a,2,b))\n",
    "print(np.insert(a,3,b))"
   ]
  }
 ],
 "metadata": {
  "kernelspec": {
   "display_name": "Python 3 (ipykernel)",
   "language": "python",
   "name": "python3"
  },
  "language_info": {
   "codemirror_mode": {
    "name": "ipython",
    "version": 3
   },
   "file_extension": ".py",
   "mimetype": "text/x-python",
   "name": "python",
   "nbconvert_exporter": "python",
   "pygments_lexer": "ipython3",
   "version": "3.12.4"
  }
 },
 "nbformat": 4,
 "nbformat_minor": 5
}
