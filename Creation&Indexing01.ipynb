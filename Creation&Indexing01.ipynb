{
 "cells": [
  {
   "cell_type": "code",
   "execution_count": 1,
   "id": "6267ad48-4a89-4d37-8d87-be8f60e89d8d",
   "metadata": {},
   "outputs": [],
   "source": [
    "import numpy as np\n"
   ]
  },
  {
   "cell_type": "code",
   "execution_count": 2,
   "id": "6050ffac-1285-475d-b44f-adc6b17201fe",
   "metadata": {},
   "outputs": [],
   "source": [
    "a = np.array([1,2,3,4,5])"
   ]
  },
  {
   "cell_type": "code",
   "execution_count": 3,
   "id": "689f239f-241c-49a0-8110-82a1d2a1516e",
   "metadata": {},
   "outputs": [
    {
     "name": "stdout",
     "output_type": "stream",
     "text": [
      "[1 2 3 4 5]\n"
     ]
    }
   ],
   "source": [
    "print(a)"
   ]
  },
  {
   "cell_type": "code",
   "execution_count": 6,
   "id": "70f47570-6de8-424d-a87c-e1885101094e",
   "metadata": {},
   "outputs": [
    {
     "name": "stdout",
     "output_type": "stream",
     "text": [
      "(5,)\n"
     ]
    }
   ],
   "source": [
    "print(a.shape)"
   ]
  },
  {
   "cell_type": "code",
   "execution_count": 7,
   "id": "871eb315-98af-498e-984a-6914e73d8746",
   "metadata": {},
   "outputs": [
    {
     "name": "stdout",
     "output_type": "stream",
     "text": [
      "5\n"
     ]
    }
   ],
   "source": [
    "print(a.size)"
   ]
  },
  {
   "cell_type": "code",
   "execution_count": 9,
   "id": "bbcb6d42-fbcd-47c3-a972-9a518769a645",
   "metadata": {},
   "outputs": [
    {
     "name": "stdout",
     "output_type": "stream",
     "text": [
      "1\n"
     ]
    }
   ],
   "source": [
    "print(a[0])"
   ]
  },
  {
   "cell_type": "code",
   "execution_count": 10,
   "id": "7a90b89d-02d7-4901-936a-a59da61ff9ff",
   "metadata": {},
   "outputs": [
    {
     "name": "stdout",
     "output_type": "stream",
     "text": [
      "2\n"
     ]
    }
   ],
   "source": [
    "print(a[1])"
   ]
  },
  {
   "cell_type": "code",
   "execution_count": 11,
   "id": "cb704748-c0ec-44ac-954a-314a5690756c",
   "metadata": {},
   "outputs": [
    {
     "name": "stdout",
     "output_type": "stream",
     "text": [
      "[1 2 3]\n"
     ]
    }
   ],
   "source": [
    "print(a[0:3]) #slicing "
   ]
  },
  {
   "cell_type": "code",
   "execution_count": 13,
   "id": "a63b7cd4-8a5c-4b09-89b0-e0cf7d9c6f54",
   "metadata": {},
   "outputs": [
    {
     "name": "stdout",
     "output_type": "stream",
     "text": [
      "[2 3 4]\n"
     ]
    }
   ],
   "source": [
    "print(a[1:4])"
   ]
  },
  {
   "cell_type": "code",
   "execution_count": 14,
   "id": "96918c96-637a-41f3-b491-6f753d337341",
   "metadata": {},
   "outputs": [
    {
     "name": "stdout",
     "output_type": "stream",
     "text": [
      "[4 5]\n"
     ]
    }
   ],
   "source": [
    "print(a[3:])"
   ]
  },
  {
   "cell_type": "code",
   "execution_count": 16,
   "id": "c642698e-4f89-4f4e-ba21-960bfadc8eb9",
   "metadata": {},
   "outputs": [],
   "source": [
    "b = np.array([[1,2,3,4,5],[6,7,8,9,10]])"
   ]
  },
  {
   "cell_type": "code",
   "execution_count": 17,
   "id": "6e6b5991-eedc-4c11-9cd6-c390f25fc922",
   "metadata": {},
   "outputs": [
    {
     "name": "stdout",
     "output_type": "stream",
     "text": [
      "[[ 1  2  3  4  5]\n",
      " [ 6  7  8  9 10]]\n"
     ]
    }
   ],
   "source": [
    "print(b)"
   ]
  },
  {
   "cell_type": "code",
   "execution_count": 18,
   "id": "d45d2d37-c52b-4996-ac21-05f3283618ec",
   "metadata": {},
   "outputs": [
    {
     "name": "stdout",
     "output_type": "stream",
     "text": [
      "(2, 5)\n"
     ]
    }
   ],
   "source": [
    "print(b.shape)"
   ]
  },
  {
   "cell_type": "code",
   "execution_count": 19,
   "id": "9179754b-4620-46a0-b4df-e19e74d6a19b",
   "metadata": {},
   "outputs": [
    {
     "name": "stdout",
     "output_type": "stream",
     "text": [
      "10\n"
     ]
    }
   ],
   "source": [
    "print(b.size)"
   ]
  },
  {
   "cell_type": "code",
   "execution_count": 28,
   "id": "77e04908-d144-469a-87c7-0fbcf04f5189",
   "metadata": {},
   "outputs": [
    {
     "name": "stdout",
     "output_type": "stream",
     "text": [
      "1\n",
      "2\n",
      "3\n",
      "4\n",
      "5\n"
     ]
    }
   ],
   "source": [
    "#Printing the all the elements of 0th row.\n",
    "print(b[0,0])\n",
    "print(b[0,1])\n",
    "print(b[0,2])\n",
    "print(b[0,3])\n",
    "print(b[0,4])\n"
   ]
  },
  {
   "cell_type": "code",
   "execution_count": 31,
   "id": "60cb8bd0-a8e5-4adb-89e3-980078a724bf",
   "metadata": {},
   "outputs": [
    {
     "name": "stdout",
     "output_type": "stream",
     "text": [
      "6\n",
      "7\n",
      "8\n",
      "9\n",
      "10\n"
     ]
    }
   ],
   "source": [
    "#Printing the all the elements of 1st row.\n",
    "print(b[1,0])\n",
    "print(b[1,1])\n",
    "print(b[1,2])\n",
    "print(b[1,3])\n",
    "print(b[1,4])\n"
   ]
  },
  {
   "cell_type": "code",
   "execution_count": 52,
   "id": "ab5acc1d-ba93-46fd-8ffb-32858f82ee01",
   "metadata": {},
   "outputs": [
    {
     "name": "stdout",
     "output_type": "stream",
     "text": [
      "[1 2 3]\n"
     ]
    }
   ],
   "source": [
    "#slicing specific row and column\n",
    "b = np.array([[1,2,3,4,5],[6,7,8,9,10]])\n",
    "#slicing first row, last two elements\n",
    "print(b[0,0:3])\n"
   ]
  },
  {
   "cell_type": "code",
   "execution_count": 57,
   "id": "75fbb470-0d3a-4ecf-999d-8b36aaa51083",
   "metadata": {},
   "outputs": [
    {
     "name": "stdout",
     "output_type": "stream",
     "text": [
      "[4 5]\n"
     ]
    }
   ],
   "source": [
    "print(b[0,3:]) #slicing 0th rows"
   ]
  },
  {
   "cell_type": "code",
   "execution_count": 62,
   "id": "86516e35-ba55-4f9c-b9bf-02489177d2ab",
   "metadata": {},
   "outputs": [
    {
     "name": "stdout",
     "output_type": "stream",
     "text": [
      "[2 3]\n",
      "[3 4]\n",
      "[2 3 4]\n"
     ]
    }
   ],
   "source": [
    "print(b[0,1:3])#slicing middle two element\n",
    "print(b[0,2:4])\n",
    "print(b[0,1:4])"
   ]
  },
  {
   "cell_type": "code",
   "execution_count": 63,
   "id": "c62c7546-2f0a-48a9-affa-4f42e366cbb5",
   "metadata": {},
   "outputs": [
    {
     "name": "stdout",
     "output_type": "stream",
     "text": [
      "[6 7 8]\n"
     ]
    }
   ],
   "source": [
    "print(b[1,0:3]) #slicing 1st row"
   ]
  },
  {
   "cell_type": "code",
   "execution_count": 65,
   "id": "972c991d-1a77-4adc-ac0c-750afc38980c",
   "metadata": {},
   "outputs": [
    {
     "name": "stdout",
     "output_type": "stream",
     "text": [
      "[ 9 10]\n"
     ]
    }
   ],
   "source": [
    "print(b[1,3:])"
   ]
  },
  {
   "cell_type": "code",
   "execution_count": 70,
   "id": "5aa94a22-fe0a-4019-8151-a8668942e66a",
   "metadata": {},
   "outputs": [
    {
     "name": "stdout",
     "output_type": "stream",
     "text": [
      "[7 8]\n",
      "[8 9]\n",
      "[7 8 9]\n"
     ]
    }
   ],
   "source": [
    "print(b[1,1:3])\n",
    "print(b[1,2:4])\n",
    "print(b[1,1:4])"
   ]
  },
  {
   "cell_type": "code",
   "execution_count": 82,
   "id": "816923ba-5451-445d-ad08-4497e1fc5c8e",
   "metadata": {},
   "outputs": [
    {
     "name": "stdout",
     "output_type": "stream",
     "text": [
      "[[ 1  2  3  4  5]\n",
      " [ 6  7  8  9 10]]\n"
     ]
    }
   ],
   "source": [
    "print(b[:,:]) #slicing all rows and columns"
   ]
  },
  {
   "cell_type": "code",
   "execution_count": 85,
   "id": "57a0146b-6453-4dc7-b39d-e80df2ed6dbc",
   "metadata": {},
   "outputs": [
    {
     "name": "stdout",
     "output_type": "stream",
     "text": [
      "[[3 4]\n",
      " [8 9]]\n"
     ]
    }
   ],
   "source": [
    "print(b[:,2:4])  #for all rows we only want 3th and 4th element"
   ]
  },
  {
   "cell_type": "code",
   "execution_count": 86,
   "id": "2c2c4d9a-139c-4191-942a-f8fc97d061b5",
   "metadata": {},
   "outputs": [
    {
     "name": "stdout",
     "output_type": "stream",
     "text": [
      "[11 22 33 44 55]\n",
      "5\n",
      "(5,)\n",
      "int32\n",
      "1\n"
     ]
    }
   ],
   "source": [
    "c = np.array([11,22,33,44,55])\n",
    "print(c)\n",
    "print(c.size)\n",
    "print(c.shape)\n",
    "print(c.dtype) #data type\n",
    "print(c.ndim) #number of dimensions"
   ]
  },
  {
   "cell_type": "code",
   "execution_count": null,
   "id": "de8e0320-d0f5-4819-bd09-71eb38c1902f",
   "metadata": {},
   "outputs": [],
   "source": []
  }
 ],
 "metadata": {
  "kernelspec": {
   "display_name": "Python 3 (ipykernel)",
   "language": "python",
   "name": "python3"
  },
  "language_info": {
   "codemirror_mode": {
    "name": "ipython",
    "version": 3
   },
   "file_extension": ".py",
   "mimetype": "text/x-python",
   "name": "python",
   "nbconvert_exporter": "python",
   "pygments_lexer": "ipython3",
   "version": "3.12.4"
  }
 },
 "nbformat": 4,
 "nbformat_minor": 5
}
