{
 "cells": [
  {
   "cell_type": "code",
   "execution_count": 2,
   "id": "a448f5da-449a-44b5-baa4-dc6c8d5fdde6",
   "metadata": {},
   "outputs": [],
   "source": [
    "import numpy as np\n"
   ]
  },
  {
   "cell_type": "code",
   "execution_count": null,
   "id": "7ebd8562-a108-45ac-b3fb-ff5e4e423fec",
   "metadata": {},
   "outputs": [],
   "source": [
    "#axis =0,Operates along rows (down the columns).\n",
    "#axis=1,Operates along columns (across the rows)."
   ]
  },
  {
   "cell_type": "code",
   "execution_count": 2,
   "id": "cea9a986-565e-45ab-ba25-d3066206db01",
   "metadata": {},
   "outputs": [
    {
     "name": "stdout",
     "output_type": "stream",
     "text": [
      "[11 12 13 14 15]\n",
      "[21 22 23 24 25]\n"
     ]
    }
   ],
   "source": [
    "a= np.array([11,12,13,14,15])\n",
    "b=np.array([21,22,23,24,25])\n",
    "print(a)\n",
    "print(b)"
   ]
  },
  {
   "cell_type": "code",
   "execution_count": 3,
   "id": "309c4aca-51aa-48a9-b159-53fcdbc729ff",
   "metadata": {},
   "outputs": [
    {
     "name": "stdout",
     "output_type": "stream",
     "text": [
      "[32 34 36 38 40]\n"
     ]
    }
   ],
   "source": [
    "print(a+b)"
   ]
  },
  {
   "cell_type": "code",
   "execution_count": 4,
   "id": "f3c4191b-978b-414d-b565-5dbed225f869",
   "metadata": {},
   "outputs": [
    {
     "name": "stdout",
     "output_type": "stream",
     "text": [
      "[-10 -10 -10 -10 -10]\n"
     ]
    }
   ],
   "source": [
    "print(a-b)"
   ]
  },
  {
   "cell_type": "code",
   "execution_count": 5,
   "id": "5bbdd4d7-3277-4057-b95b-5cdb99d95569",
   "metadata": {},
   "outputs": [
    {
     "name": "stdout",
     "output_type": "stream",
     "text": [
      "[32 34 36 38 40]\n"
     ]
    }
   ],
   "source": [
    "print(a+b)"
   ]
  },
  {
   "cell_type": "code",
   "execution_count": 6,
   "id": "9cfb2be8-0081-4622-b7a1-e39f36226dc4",
   "metadata": {},
   "outputs": [
    {
     "name": "stdout",
     "output_type": "stream",
     "text": [
      "[0.52380952 0.54545455 0.56521739 0.58333333 0.6       ]\n"
     ]
    }
   ],
   "source": [
    "print(a/b)"
   ]
  },
  {
   "cell_type": "code",
   "execution_count": 7,
   "id": "bb0dd912-99f0-4b74-ace8-4a5420ace94c",
   "metadata": {},
   "outputs": [
    {
     "name": "stdout",
     "output_type": "stream",
     "text": [
      "[3.31662479 3.46410162 3.60555128 3.74165739 3.87298335]\n",
      "[4.58257569 4.69041576 4.79583152 4.89897949 5.        ]\n"
     ]
    }
   ],
   "source": [
    "print(np.sqrt(a))\n",
    "print(np.sqrt(b))"
   ]
  },
  {
   "cell_type": "code",
   "execution_count": 10,
   "id": "d3f0a8b3-aa6d-421c-b34c-f9c2dc7abd3e",
   "metadata": {},
   "outputs": [
    {
     "name": "stdout",
     "output_type": "stream",
     "text": [
      "[[22 25]\n",
      " [26 17]]\n",
      "[[24 26]\n",
      " [56 67]]\n"
     ]
    }
   ],
   "source": [
    "c = np.array([[22,25],[26,17]])\n",
    "d = np.array([[24,26],[56,67]])\n",
    "print(c)\n",
    "print(d)"
   ]
  },
  {
   "cell_type": "code",
   "execution_count": 11,
   "id": "402dc45e-1f55-445c-b40c-4cee5902b376",
   "metadata": {},
   "outputs": [
    {
     "name": "stdout",
     "output_type": "stream",
     "text": [
      "[[46 51]\n",
      " [82 84]]\n",
      "[[ -2  -1]\n",
      " [-30 -50]]\n",
      "[[0.91666667 0.96153846]\n",
      " [0.46428571 0.25373134]]\n"
     ]
    }
   ],
   "source": [
    "print(c+d)\n",
    "print(c-d)\n",
    "print(c/d)"
   ]
  },
  {
   "cell_type": "code",
   "execution_count": 13,
   "id": "018e627b-b083-42b6-becc-9497cd2e7c20",
   "metadata": {},
   "outputs": [
    {
     "name": "stdout",
     "output_type": "stream",
     "text": [
      "[[4.69041576 5.        ]\n",
      " [5.09901951 4.12310563]]\n",
      "[[4.89897949 5.09901951]\n",
      " [7.48331477 8.18535277]]\n"
     ]
    }
   ],
   "source": [
    "print(np.sqrt(c))\n",
    "print(np.sqrt(d))"
   ]
  },
  {
   "cell_type": "code",
   "execution_count": 22,
   "id": "90573a49-1dc8-41cf-8989-b97472e3c164",
   "metadata": {},
   "outputs": [
    {
     "name": "stdout",
     "output_type": "stream",
     "text": [
      "[12 23 24 55 67]\n"
     ]
    }
   ],
   "source": [
    "arr10 =  np.array([ 144 , 529,  576 ,3025 ,4489])\n",
    "print(np.sqrt(arr10).astype(int))"
   ]
  },
  {
   "cell_type": "code",
   "execution_count": 25,
   "id": "c303d19b-d967-4027-938c-64745685ab57",
   "metadata": {},
   "outputs": [
    {
     "name": "stdout",
     "output_type": "stream",
     "text": [
      "[ 144  529  576 3025 4489]\n"
     ]
    }
   ],
   "source": [
    "arr10 =  np.array([ 12 , 23,  24 ,55 ,67])\n",
    "arr11 = np.array([2])\n",
    "powerarray= np.power(arr10,arr11)\n",
    "print(powerarray)"
   ]
  },
  {
   "cell_type": "code",
   "execution_count": null,
   "id": "bb292485-ffdc-4baa-a2e5-6982aba9ba5f",
   "metadata": {},
   "outputs": [],
   "source": []
  }
 ],
 "metadata": {
  "kernelspec": {
   "display_name": "Python 3 (ipykernel)",
   "language": "python",
   "name": "python3"
  },
  "language_info": {
   "codemirror_mode": {
    "name": "ipython",
    "version": 3
   },
   "file_extension": ".py",
   "mimetype": "text/x-python",
   "name": "python",
   "nbconvert_exporter": "python",
   "pygments_lexer": "ipython3",
   "version": "3.12.4"
  }
 },
 "nbformat": 4,
 "nbformat_minor": 5
}
