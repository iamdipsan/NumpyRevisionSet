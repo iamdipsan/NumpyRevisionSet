{
 "cells": [
  {
   "cell_type": "code",
   "execution_count": 1,
   "id": "bfe10b8b-fd1c-4b5a-8f2a-78de01c7f023",
   "metadata": {},
   "outputs": [],
   "source": [
    "import numpy as np"
   ]
  },
  {
   "cell_type": "code",
   "execution_count": 2,
   "id": "6950ec1a-e24c-48af-8e54-762db7568669",
   "metadata": {},
   "outputs": [
    {
     "name": "stdout",
     "output_type": "stream",
     "text": [
      "[17 55 21 12 14 88 33 46 66]\n"
     ]
    }
   ],
   "source": [
    "#create an unsorted array\n",
    "x= np.array([17,55,21,12,14,88,33,46,66])\n",
    "print(x)"
   ]
  },
  {
   "cell_type": "code",
   "execution_count": 3,
   "id": "06abca61-7d06-491a-8b37-02a1963a0115",
   "metadata": {},
   "outputs": [
    {
     "name": "stdout",
     "output_type": "stream",
     "text": [
      "[12 14 17 21 33 46 55 66 88]\n"
     ]
    }
   ],
   "source": [
    "y=np.sort(x)  #sort the unsorted array ,save,and print\n",
    "print(y)"
   ]
  },
  {
   "cell_type": "code",
   "execution_count": 4,
   "id": "f7a8f8be-e26e-49e2-92db-63fae58d0d49",
   "metadata": {},
   "outputs": [
    {
     "name": "stdout",
     "output_type": "stream",
     "text": [
      "17\n",
      "17\n",
      "17\n"
     ]
    }
   ],
   "source": [
    "#printing array  elements in 1d array\n",
    "x= np.array([17,55,21,12,14,88,33,46,66])\n",
    "print(x[0])\n",
    "print(x[0])\n",
    "print(x[0])"
   ]
  },
  {
   "cell_type": "code",
   "execution_count": 5,
   "id": "a814a8e4-b953-42df-8cec-6296f6d88706",
   "metadata": {},
   "outputs": [
    {
     "name": "stdout",
     "output_type": "stream",
     "text": [
      "(array([1], dtype=int64),)\n"
     ]
    }
   ],
   "source": [
    "#searching element in 1d array\n",
    "x= np.array([17,55,21,12,14,88,33,46,66])\n",
    "print(np.where(x==55)) #gives index of element"
   ]
  },
  {
   "cell_type": "code",
   "execution_count": 6,
   "id": "823649ac-5951-4047-bd3e-e5fb7b627598",
   "metadata": {},
   "outputs": [
    {
     "name": "stdout",
     "output_type": "stream",
     "text": [
      "(array([1, 5, 7, 8], dtype=int64),)\n"
     ]
    }
   ],
   "source": [
    "x= np.array([17,55,21,12,14,88,33,46,66])\n",
    "print(np.where(x >40))"
   ]
  },
  {
   "cell_type": "code",
   "execution_count": 7,
   "id": "ebb7e023-4a37-4ce5-a5ad-606b15742ee4",
   "metadata": {},
   "outputs": [
    {
     "name": "stdout",
     "output_type": "stream",
     "text": [
      "(array([1, 7, 8], dtype=int64),)\n"
     ]
    }
   ],
   "source": [
    "x= np.array([17,55,21,12,14,88,33,46,66])\n",
    "print(np.where((x>40) & (x<70))) #gives the indices of number\n",
    "#greater than 40 and less than  70."
   ]
  },
  {
   "cell_type": "code",
   "execution_count": 8,
   "id": "51973917-750c-4d0a-8c45-436592fa8534",
   "metadata": {},
   "outputs": [
    {
     "name": "stdout",
     "output_type": "stream",
     "text": [
      "True\n",
      "False\n",
      "\n"
     ]
    }
   ],
   "source": [
    "x= np.array([17,55,21,12,14,88,33,46,66])\n",
    "print(np.any(x>50)) #checks if any  element >50  is in array or not\n",
    "print(np.any(x==80)) \n",
    "print()"
   ]
  },
  {
   "cell_type": "code",
   "execution_count": 9,
   "id": "a986f436-394e-4510-9460-b687d7f53fc5",
   "metadata": {},
   "outputs": [
    {
     "name": "stdout",
     "output_type": "stream",
     "text": [
      "False\n",
      "True\n"
     ]
    }
   ],
   "source": [
    "x= np.array([17,55,21,12,14,88,33,46,66])\n",
    "print(np.all(x>50)) #all,  check if element are greater than 50\n",
    "print(np.all(x>0)) #prints true because all element is greater than 0"
   ]
  },
  {
   "cell_type": "markdown",
   "id": "92ca5335-2009-4f22-bb3e-5744da932ebb",
   "metadata": {},
   "source": [
    "#for 2d array, searaching"
   ]
  },
  {
   "cell_type": "code",
   "execution_count": 10,
   "id": "51fbda64-865e-4903-a33e-1a932ca17611",
   "metadata": {},
   "outputs": [
    {
     "name": "stdout",
     "output_type": "stream",
     "text": [
      "[[12 17 21 55]\n",
      " [14 33 46 88]]\n"
     ]
    }
   ],
   "source": [
    "#create an unsorted 2d array\n",
    "x = np.array([[17,55,21,12],[14,88,33,46]])\n",
    "y=np.sort(x)\n",
    "print(y)"
   ]
  },
  {
   "cell_type": "code",
   "execution_count": 11,
   "id": "4d7e518a-e653-4434-969a-8fe2e7296688",
   "metadata": {},
   "outputs": [
    {
     "name": "stdout",
     "output_type": "stream",
     "text": [
      "(array([1], dtype=int64), array([1], dtype=int64))\n"
     ]
    }
   ],
   "source": [
    "# Find Indices of Specific Values\n",
    "x = np.array([[17,55,21,12],[14,88,33,46]])\n",
    "print(np.where(x ==88))  "
   ]
  },
  {
   "cell_type": "code",
   "execution_count": 12,
   "id": "700acbeb-86ee-4ba5-88da-c4f4d212c989",
   "metadata": {},
   "outputs": [
    {
     "name": "stdout",
     "output_type": "stream",
     "text": [
      "(array([0, 1], dtype=int64), array([1, 1], dtype=int64))\n"
     ]
    }
   ],
   "source": [
    "#Find Indices Based on a Condition\n",
    "x = np.array([[17,55,21,12],[14,88,33,46]])\n",
    "print(np.where(x> 50))"
   ]
  },
  {
   "cell_type": "code",
   "execution_count": 13,
   "id": "1527e673-bf7a-4b7e-97c8-5e31d238be76",
   "metadata": {},
   "outputs": [],
   "source": [
    "#axis =0,Operates along rows (down the columns).\n",
    "#axis=1,Operates along columns (across the rows)."
   ]
  },
  {
   "cell_type": "code",
   "execution_count": 14,
   "id": "7457ffc6-f200-4fc8-8b33-03759f8f87b4",
   "metadata": {},
   "outputs": [
    {
     "name": "stdout",
     "output_type": "stream",
     "text": [
      "[17 88 33 46]\n"
     ]
    }
   ],
   "source": [
    "# Search Along Specific Axes\n",
    "x = np.array([\n",
    "    [17,55,21,12],\n",
    "    [14,88,33,46]])\n",
    "print(np.max(x,axis=0))\n",
    "#for both rows, prints the greater number on each column\n",
    "#12,14=>17\n",
    "#55,88=>88\n",
    "#21,33=>33\n",
    "#12,46=>46 "
   ]
  },
  {
   "cell_type": "code",
   "execution_count": 15,
   "id": "d78a9ec3-e35b-4515-9e66-65bf01c778da",
   "metadata": {},
   "outputs": [
    {
     "name": "stdout",
     "output_type": "stream",
     "text": [
      "[55 88]\n"
     ]
    }
   ],
   "source": [
    "x = np.array([\n",
    "    [17,55,21,12],\n",
    "    [14,21,33,88]])\n",
    "print(np.max(x,axis=1))\n",
    "#prints the maxm number in  each row"
   ]
  },
  {
   "cell_type": "code",
   "execution_count": 16,
   "id": "414208f7-7c86-427c-81ad-f0694381af86",
   "metadata": {},
   "outputs": [
    {
     "name": "stdout",
     "output_type": "stream",
     "text": [
      "[17 55 44 88]\n",
      "[0 0 1 1]\n"
     ]
    }
   ],
   "source": [
    "x = np.array([\n",
    "    [17,55,21,12],\n",
    "    [14,21,44,88]])\n",
    "print(np.max(x,axis=0))\n",
    "print(np.argmax(x,axis=0)) #argmax,gives he indices of each max value in each row,\n",
    "#o,1 represents the row "
   ]
  },
  {
   "cell_type": "markdown",
   "id": "de262648-3053-4479-a4a9-93838f7f3632",
   "metadata": {},
   "source": [
    "#Filtering in numpy"
   ]
  },
  {
   "cell_type": "code",
   "execution_count": 17,
   "id": "e566f194-15ad-421f-b205-a19efe023a9e",
   "metadata": {},
   "outputs": [
    {
     "name": "stdout",
     "output_type": "stream",
     "text": [
      "[ 5  1 15 20 25]\n"
     ]
    }
   ],
   "source": [
    "x=np.array([5,1,15,20,25])\n",
    "print(x)"
   ]
  },
  {
   "cell_type": "code",
   "execution_count": 18,
   "id": "474eb27d-c63b-46dc-809d-a4e0c0430ec5",
   "metadata": {},
   "outputs": [
    {
     "name": "stdout",
     "output_type": "stream",
     "text": [
      "[15 20 25]\n"
     ]
    }
   ],
   "source": [
    "filtered_x = x[x>10]\n",
    "print(filtered_x)"
   ]
  },
  {
   "cell_type": "code",
   "execution_count": 19,
   "id": "fd2182ff-2955-4c40-ae64-33f0d8457c96",
   "metadata": {},
   "outputs": [
    {
     "name": "stdout",
     "output_type": "stream",
     "text": [
      "[15 20 25]\n"
     ]
    }
   ],
   "source": [
    "x=np.array([5,1,15,20,25])\n",
    "filtered_x = x[(x>5)&(x<30)]\n",
    "print(filtered_x)"
   ]
  },
  {
   "cell_type": "code",
   "execution_count": 20,
   "id": "1ef6d9d1-e3e4-45c3-8da8-856f304b2b63",
   "metadata": {},
   "outputs": [
    {
     "name": "stdout",
     "output_type": "stream",
     "text": [
      "[15 20 25]\n"
     ]
    }
   ],
   "source": [
    "x=np.array([5,1,15,20,25])\n",
    "filtered_x=x[x>5]\n",
    "print(filtered_x)"
   ]
  },
  {
   "cell_type": "code",
   "execution_count": 21,
   "id": "9b0b690d-7a5a-4c86-8b85-7d5c8ea264ce",
   "metadata": {},
   "outputs": [
    {
     "name": "stdout",
     "output_type": "stream",
     "text": [
      "[15]\n"
     ]
    }
   ],
   "source": [
    "x=np.array([5,1,15,20,25])\n",
    "filtered_x = x[(x>5)&(x<20)]\n",
    "print(filtered_x)"
   ]
  },
  {
   "cell_type": "code",
   "execution_count": 22,
   "id": "517108e4-48ef-4299-885d-9e18d3783368",
   "metadata": {},
   "outputs": [],
   "source": [
    "#filtering in 2d array"
   ]
  },
  {
   "cell_type": "code",
   "execution_count": 23,
   "id": "206163b3-9f77-450d-8163-588f0973b54b",
   "metadata": {},
   "outputs": [
    {
     "name": "stdout",
     "output_type": "stream",
     "text": [
      "[[4 5 6]\n",
      " [7 8 9]]\n"
     ]
    }
   ],
   "source": [
    "x=np.array([[1, 2, 3],\n",
    "                   [4, 5, 6],\n",
    "                   [7, 8, 9]])\n",
    "filtered_x=x[x[:,0]>3] \n",
    "#x[:,0], means for all rows,first column,\n",
    "#x[:,0],means for all rows,first column,  greater than 3\n",
    "print(filtered_x)"
   ]
  },
  {
   "cell_type": "code",
   "execution_count": 24,
   "id": "54cc031b-c62b-4417-b24b-058cacf6b607",
   "metadata": {},
   "outputs": [
    {
     "name": "stdout",
     "output_type": "stream",
     "text": [
      "[5 6 7 8 9]\n"
     ]
    }
   ],
   "source": [
    "#filtering in 2d array\n",
    "x=np.array([[1, 2, 3],\n",
    "                   [4, 5, 6],\n",
    "                   [7, 8, 9]])\n",
    "filtered_x=x[x[:,:]>4]  #for all rows and column  ,print all element greater than4\n",
    "print(filtered_x)"
   ]
  },
  {
   "cell_type": "code",
   "execution_count": 25,
   "id": "58c01853-77d9-42e1-aa72-c990a5ae2d43",
   "metadata": {},
   "outputs": [
    {
     "name": "stdout",
     "output_type": "stream",
     "text": [
      "[1 4]\n"
     ]
    }
   ],
   "source": [
    "x=np.array([[1, 2, 3],\n",
    "                   [4, 5, 6],\n",
    "                   [7, 8, 9]])\n",
    "filtered_x= x[0:2,0]  #for rows, 0,1 ,column 0   \n",
    "print(filtered_x)"
   ]
  },
  {
   "cell_type": "code",
   "execution_count": 26,
   "id": "4d76c797-7b02-44dd-a1c0-884dc52f7612",
   "metadata": {},
   "outputs": [
    {
     "name": "stdout",
     "output_type": "stream",
     "text": [
      "[1 2]\n"
     ]
    }
   ],
   "source": [
    "#print values from rows 0 and 1 and all columns where the value is less than 5,\n",
    "x=np.array([[1, 2, 3],\n",
    "                   [4, 5, 6],\n",
    "                [7, 8, 9]])\n",
    "#first chose \n",
    "y  = x[0:2,:] #choose row 0,1 ie, 0:2\n",
    "\n",
    "z = y[y<3] #apply condition ,<3 \n",
    "print(z) #print 3"
   ]
  },
  {
   "cell_type": "code",
   "execution_count": null,
   "id": "1e76da53-dd72-4151-99e8-97774990b0f4",
   "metadata": {},
   "outputs": [],
   "source": []
  }
 ],
 "metadata": {
  "kernelspec": {
   "display_name": "Python 3 (ipykernel)",
   "language": "python",
   "name": "python3"
  },
  "language_info": {
   "codemirror_mode": {
    "name": "ipython",
    "version": 3
   },
   "file_extension": ".py",
   "mimetype": "text/x-python",
   "name": "python",
   "nbconvert_exporter": "python",
   "pygments_lexer": "ipython3",
   "version": "3.12.3"
  }
 },
 "nbformat": 4,
 "nbformat_minor": 5
}
